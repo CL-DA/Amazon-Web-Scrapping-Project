{
 "cells": [
  {
   "cell_type": "code",
   "execution_count": 7,
   "id": "72fd5e52-9eaf-489e-b853-d40392b1f8ca",
   "metadata": {},
   "outputs": [],
   "source": [
    "#import libraries\n",
    "from bs4 import BeautifulSoup\n",
    "import requests\n",
    "import time\n",
    "import datetime\n",
    "import smtplib"
   ]
  },
  {
   "cell_type": "code",
   "execution_count": 69,
   "id": "9fe156c6-26b6-4b32-9893-76695d16aaa4",
   "metadata": {},
   "outputs": [
    {
     "name": "stdout",
     "output_type": "stream",
     "text": [
      "\n",
      "                    Immature A Word Boring People Humor Use Graphic Novelty Sarcastic Funny T Shirt\n",
      "                   \n",
      "\n",
      "                    $14.99\n",
      "                   \n"
     ]
    }
   ],
   "source": [
    "# Connect to Website and pull in data\n",
    "URL = 'https://www.amazon.com/dp/B012XYJAZ6/ref=sspa_dk_detail_3?psc=1&pd_rd_i=B012XYJAZ6&pd_rd_w=WiRE3&content-id=amzn1.sym.7446a9d1-25fe-4460-b135-a60336bad2c9&pf_rd_p=7446a9d1-25fe-4460-b135-a60336bad2c9&pf_rd_r=JTFV3244JGK5GTXDT71H&pd_rd_wg=bqUEp&pd_rd_r=94698b00-f32c-433b-a8a7-a2844418f65c&s=apparel&sp_csd=d2lkZ2V0TmFtZT1zcF9kZXRhaWw'\n",
    "# using https://httpbin.org/get to get \"User-Agent\"\n",
    "headers = {\"User-Agent\": \"Mozilla/5.0 (Windows NT 10.0; Win64; x64; rv:130.0) Gecko/20100101 Firefox/130.0\", \"Accept-Encoding\":\"gzip, deflate\", \"Accept\":\"text/html,application/xhtml+xml,application/xml;q=0.9,*/*;q=0.8\", \"DNT\":\"1\",\"Connection\":\"close\", \"Upgrade-Insecure-Requests\":\"1\"}\n",
    "page = requests.get(URL, headers=headers)\n",
    "soup1 = BeautifulSoup(page.content, \"html.parser\")\n",
    "soup2 = BeautifulSoup(soup1.prettify(), \"html.parser\")\n",
    "title = soup2.find(id='productTitle').get_text()\n",
    "print(title)\n",
    "price = soup2.find('span', {\"class\":\"aok-offscreen\"}).text\n",
    "print(price)\n",
    "\n"
   ]
  },
  {
   "cell_type": "code",
   "execution_count": 71,
   "id": "69d802c9-bd2e-4ed2-84a2-e7346a61f86f",
   "metadata": {},
   "outputs": [
    {
     "name": "stdout",
     "output_type": "stream",
     "text": [
      "Immature A Word Boring People Humor Use Graphic Novelty Sarcastic Funny T Shirt\n",
      "14.99\n"
     ]
    }
   ],
   "source": [
    "# Clean up the data a little bit\n",
    "price = price.strip()[1:]\n",
    "title = title.strip()\n",
    "print(title)\n",
    "print(price)"
   ]
  },
  {
   "cell_type": "code",
   "execution_count": 61,
   "id": "f073baef-e9e1-451e-9e04-0fac1c1f5900",
   "metadata": {},
   "outputs": [
    {
     "name": "stdout",
     "output_type": "stream",
     "text": [
      "2024-09-23\n",
      "14:01\n"
     ]
    }
   ],
   "source": [
    "# Create a Timestamp for the output to track when data was collected\n",
    "from datetime import datetime\n",
    "curent_time=datetime.now()\n",
    "today=curent_time.date()\n",
    "original_time=curent_time.time()\n",
    "formated_time = original_time.strftime('%H:%M')\n",
    "print(today)\n",
    "print(formated_time)"
   ]
  },
  {
   "cell_type": "code",
   "execution_count": 83,
   "id": "a3f81b13-0f17-4085-ba58-fbcdd1ce2d8d",
   "metadata": {},
   "outputs": [],
   "source": [
    "# Create CSV and write headers and data into the file\n",
    "\n",
    "import csv\n",
    "with open(r'C:\\Users\\CL\\AmazonWebScraperDataset.csv', 'w', newline='', encoding='UTF8') as f:\n",
    "    header = ['Title', 'Price', 'Date','Time']\n",
    "    data = [title, price, today, formated_time]\n",
    "    writer = csv.writer(f)\n",
    "    writer.writerow(header)\n",
    "    writer.writerow(data)"
   ]
  },
  {
   "cell_type": "code",
   "execution_count": 85,
   "id": "0c96a362-e593-4b09-b728-53970125eeae",
   "metadata": {},
   "outputs": [
    {
     "name": "stdout",
     "output_type": "stream",
     "text": [
      "                                               Title  Price        Date   Time\n",
      "0  Immature A Word Boring People Humor Use Graphi...  14.99  2024-09-23  14:01\n"
     ]
    }
   ],
   "source": [
    "import pandas as pd\n",
    "df = pd.read_csv(r'C:\\Users\\CL\\AmazonWebScraperDataset.csv')\n",
    "print(df)"
   ]
  },
  {
   "cell_type": "code",
   "execution_count": 43,
   "id": "7520bf7f-597a-483a-b087-395afc5e7b8f",
   "metadata": {},
   "outputs": [],
   "source": [
    "# Append additional data to the table\n",
    "with open(r'C:\\Users\\CL\\AmazonWebScraperDataset.csv', 'a+', newline='', encoding='UTF8') as f:\n",
    "    writer = csv.writer(f)\n",
    "    writer.writerow(data)"
   ]
  },
  {
   "cell_type": "code",
   "execution_count": 73,
   "id": "9875bbda-8138-44ce-8e65-b41b55cacc9a",
   "metadata": {},
   "outputs": [],
   "source": [
    "def check_price():\n",
    "    URL = 'https://www.amazon.com/dp/B012XYJAZ6/ref=sspa_dk_detail_3?psc=1&pd_rd_i=B012XYJAZ6&pd_rd_w=WiRE3&content-id=amzn1.sym.7446a9d1-25fe-4460-b135-a60336bad2c9&pf_rd_p=7446a9d1-25fe-4460-b135-a60336bad2c9&pf_rd_r=JTFV3244JGK5GTXDT71H&pd_rd_wg=bqUEp&pd_rd_r=94698b00-f32c-433b-a8a7-a2844418f65c&s=apparel&sp_csd=d2lkZ2V0TmFtZT1zcF9kZXRhaWw'\n",
    "    headers = {\"User-Agent\": \"Mozilla/5.0 (Windows NT 10.0; Win64; x64; rv:130.0) Gecko/20100101 Firefox/130.0\", \"Accept-Encoding\":\"gzip, deflate\", \"Accept\":\"text/html,application/xhtml+xml,application/xml;q=0.9,*/*;q=0.8\", \"DNT\":\"1\",\"Connection\":\"close\", \"Upgrade-Insecure-Requests\":\"1\"}\n",
    "    page = requests.get(URL, headers=headers)\n",
    "    soup1 = BeautifulSoup(page.content, \"html.parser\")\n",
    "    soup2 = BeautifulSoup(soup1.prettify(), \"html.parser\")\n",
    "    title = soup2.find(id='productTitle').get_text()\n",
    "    price = soup2.find('span', {\"class\":\"aok-offscreen\"}).text\n",
    "    price = price.strip()[1:]\n",
    "    title = title.strip()\n",
    "    \n",
    "    from datetime import datetime\n",
    "    curent_time=datetime.now()\n",
    "    today=curent_time.date()\n",
    "    original_time=curent_time.time()\n",
    "    formated_time = original_time.strftime('%H:%M')\n",
    "   \n",
    "    import csv \n",
    "    header = ['Title', 'Price', 'Date','Time']\n",
    "    data = [title, price, today, formated_time]\n",
    "    with open(r'C:\\Users\\CL\\AmazonWebScraperDataset.csv', 'a+', newline='', encoding='UTF8') as f:\n",
    "        writer = csv.writer(f)\n",
    "        writer.writerow(data)\n"
   ]
  },
  {
   "cell_type": "code",
   "execution_count": null,
   "id": "6999e82c-3c34-46a9-8baa-4c476d51af75",
   "metadata": {},
   "outputs": [],
   "source": [
    "# Runs check_price after a set time and inputs data into the CSV file\n",
    "while(True):\n",
    "    check_price()\n",
    "    time.sleep(600)"
   ]
  },
  {
   "cell_type": "code",
   "execution_count": null,
   "id": "af6b1723-da3d-4655-b857-b62cff66c2c8",
   "metadata": {},
   "outputs": [],
   "source": []
  },
  {
   "cell_type": "code",
   "execution_count": null,
   "id": "f85ff371-ec48-42b6-80c7-c9a69dc0518f",
   "metadata": {},
   "outputs": [],
   "source": []
  },
  {
   "cell_type": "code",
   "execution_count": null,
   "id": "5656e7a1-21df-46f6-9efa-7c6717494163",
   "metadata": {},
   "outputs": [],
   "source": []
  }
 ],
 "metadata": {
  "kernelspec": {
   "display_name": "Python 3 (ipykernel)",
   "language": "python",
   "name": "python3"
  },
  "language_info": {
   "codemirror_mode": {
    "name": "ipython",
    "version": 3
   },
   "file_extension": ".py",
   "mimetype": "text/x-python",
   "name": "python",
   "nbconvert_exporter": "python",
   "pygments_lexer": "ipython3",
   "version": "3.12.4"
  }
 },
 "nbformat": 4,
 "nbformat_minor": 5
}
